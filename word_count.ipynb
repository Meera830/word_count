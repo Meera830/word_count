{
  "nbformat": 4,
  "nbformat_minor": 0,
  "metadata": {
    "colab": {
      "provenance": []
    },
    "kernelspec": {
      "name": "python3",
      "display_name": "Python 3"
    },
    "language_info": {
      "name": "python"
    }
  },
  "cells": [
    {
      "cell_type": "code",
      "execution_count": 9,
      "metadata": {
        "id": "fumiCzsV2Btj"
      },
      "outputs": [],
      "source": [
        "def words(text):\n",
        "    wrd = text.strip().split()\n",
        "    wc = len(wrd)\n",
        "    return wc\n",
        "\n"
      ]
    },
    {
      "cell_type": "code",
      "source": [
        "def count():\n",
        "    print(\"Welcome to the Word Count Program!\")\n",
        "    txt = input(\"Please enter a sentence or paragraph: \").strip()\n",
        "    if not txt:\n",
        "        print(\"Invalid Input.The Input cannot be empty. Please try again.\")\n",
        "        return\n",
        "    wc = words(txt)\n",
        "    print(f\"The number of words in the given text is: {wc}\")\n",
        "if __name__ == \"__main__\":\n",
        "    count()\n"
      ],
      "metadata": {
        "colab": {
          "base_uri": "https://localhost:8080/"
        },
        "id": "aswQ4oHM25E_",
        "outputId": "0b41dfa6-091e-4fd6-fcc6-f0c7074bfbf8"
      },
      "execution_count": 10,
      "outputs": [
        {
          "output_type": "stream",
          "name": "stdout",
          "text": [
            "Welcome to the Word Count Program!\n",
            "Please enter a sentence or paragraph: when life gives you lemon, make lemonade.\n",
            "The number of words in the given text is: 7\n"
          ]
        }
      ]
    }
  ]
}